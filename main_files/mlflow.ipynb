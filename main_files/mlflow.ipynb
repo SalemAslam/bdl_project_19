{
 "cells": [
  {
   "cell_type": "code",
   "execution_count": 1,
   "metadata": {},
   "outputs": [],
   "source": [
    "import pandas as pd\n",
    "from sklearn.model_selection import train_test_split\n",
    "from sklearn.preprocessing import LabelEncoder"
   ]
  },
  {
   "cell_type": "code",
   "execution_count": 4,
   "metadata": {},
   "outputs": [],
   "source": [
    "from pyspark.sql import functions as F\n",
    "from pyspark.sql.types import *\n",
    "from pyspark.ml.feature import StringIndexer, VectorAssembler\n",
    "from pyspark.ml import Pipeline"
   ]
  },
  {
   "cell_type": "code",
   "execution_count": 2,
   "metadata": {},
   "outputs": [],
   "source": [
    "# Load dataset\n",
    "telco_data = pd.read_csv('WA_Fn-UseC_-Telco-Customer-Churn.csv')"
   ]
  },
  {
   "cell_type": "code",
   "execution_count": 6,
   "metadata": {},
   "outputs": [],
   "source": [
    "from pyspark.sql import SparkSession\n",
    "\n",
    "# Initialize Spark session\n",
    "spark = SparkSession.builder.appName(\"TelcoChurnPreprocessing\").getOrCreate()"
   ]
  },
  {
   "cell_type": "code",
   "execution_count": 8,
   "metadata": {},
   "outputs": [],
   "source": [
    "# Load the data file\n",
    "file_path = 'WA_Fn-UseC_-Telco-Customer-Churn.csv'\n",
    "telco_data = spark.read.csv(file_path, header=True, inferSchema=True)"
   ]
  },
  {
   "cell_type": "code",
   "execution_count": 9,
   "metadata": {},
   "outputs": [],
   "source": [
    "# Convert TotalCharges to float and handle missing values\n",
    "telco_data = telco_data.withColumn(\"TotalCharges\", F.col(\"TotalCharges\").cast(FloatType()))\n",
    "telco_data = telco_data.dropna(subset=[\"TotalCharges\"])\n",
    "\n",
    "# Create tenure groups\n",
    "telco_data = telco_data.withColumn(\"tenure_group\", \n",
    "                                    F.when(F.col(\"tenure\").between(1, 12), \"1-12\")\n",
    "                                    .when(F.col(\"tenure\").between(13, 24), \"13-24\")\n",
    "                                    .when(F.col(\"tenure\").between(25, 36), \"25-36\")\n",
    "                                    .when(F.col(\"tenure\").between(37, 48), \"37-48\")\n",
    "                                    .when(F.col(\"tenure\").between(49, 60), \"49-60\")\n",
    "                                    .otherwise(\"61-72\"))\n",
    "\n",
    "# Drop unnecessary columns\n",
    "telco_data = telco_data.drop(\"customerID\", \"tenure\")\n",
    "\n",
    "# Convert target variable 'Churn' to binary numeric variable\n",
    "telco_data = telco_data.withColumn(\"Churn\", F.when(F.col(\"Churn\") == \"Yes\", 1).otherwise(0))\n",
    "\n",
    "# Convert categorical variables to dummy variables\n",
    "categorical_cols = [col for col, dtype in telco_data.dtypes if dtype == 'string']\n",
    "indexers = [StringIndexer(inputCol=column, outputCol=column+\"_index\") for column in categorical_cols]\n",
    "pipeline = Pipeline(stages=indexers)\n",
    "telco_data = pipeline.fit(telco_data).transform(telco_data)\n",
    "\n",
    "# Drop original categorical columns\n",
    "telco_data = telco_data.drop(*categorical_cols)"
   ]
  },
  {
   "cell_type": "code",
   "execution_count": 12,
   "metadata": {},
   "outputs": [],
   "source": [
    "telco_data_pd = telco_data.toPandas()\n",
    "\n",
    "# Separate features and target variable\n",
    "X = telco_data_pd.drop('Churn', axis=1)\n",
    "y = telco_data_pd['Churn']"
   ]
  },
  {
   "cell_type": "code",
   "execution_count": 13,
   "metadata": {},
   "outputs": [],
   "source": [
    "X_train, X_test, y_train, y_test = train_test_split(X, y, test_size=0.2, random_state=42)"
   ]
  },
  {
   "cell_type": "code",
   "execution_count": 14,
   "metadata": {},
   "outputs": [],
   "source": [
    "from sklearn.tree import DecisionTreeClassifier"
   ]
  },
  {
   "cell_type": "code",
   "execution_count": 36,
   "metadata": {},
   "outputs": [],
   "source": [
    "models_configs = {\n",
    "    'model_1': {'max_depth': 3, 'criterion': 'gini', 'min_samples_split': 2, 'min_samples_leaf': 2, 'max_features': 'log2'},\n",
    "    'model_2': {'max_depth': 5, 'criterion': 'gini', 'min_samples_split': 2, 'min_samples_leaf': 1, 'max_features': 'sqrt'},\n",
    "    'model_3': {'max_depth': 7, 'criterion': 'entropy', 'min_samples_split': 2, 'min_samples_leaf': 1, 'max_features': 'log2'},\n",
    "    'model_4': {'max_depth': None, 'criterion': 'entropy', 'min_samples_split': 2, 'min_samples_leaf': 1, 'max_features': None},\n",
    "    'model_5': {'max_depth': 3, 'criterion': 'gini', 'min_samples_split': 4, 'min_samples_leaf': 2, 'max_features': 'sqrt'},\n",
    "    'model_6': {'max_depth': None, 'criterion': 'gini', 'min_samples_split': 2, 'min_samples_leaf': 1, 'max_features': None},\n",
    "    }"
   ]
  },
  {
   "cell_type": "code",
   "execution_count": 37,
   "metadata": {},
   "outputs": [],
   "source": [
    "import mlflow\n",
    "import mlflow.sklearn\n",
    "from sklearn.metrics import accuracy_score, precision_score, recall_score, f1_score"
   ]
  },
  {
   "cell_type": "code",
   "execution_count": 38,
   "metadata": {},
   "outputs": [],
   "source": [
    "# Define function to train and log models\n",
    "def train_and_log_model(config_name, model_configs):\n",
    "    config = model_configs[config_name]\n",
    "    model = DecisionTreeClassifier(\n",
    "        max_depth=config['max_depth'],\n",
    "        criterion=config['criterion'],\n",
    "        min_samples_split=config['min_samples_split'],\n",
    "        min_samples_leaf=config['min_samples_leaf'],\n",
    "        max_features=config['max_features']\n",
    "    )\n",
    "    # Train model\n",
    "    model.fit(X_train, y_train)\n",
    "\n",
    "    # Make predictions\n",
    "    y_pred_train = model.predict(X_train)\n",
    "    y_pred_test = model.predict(X_test)\n",
    "\n",
    "    # Log parameters\n",
    "    mlflow.log_param(\"max_depth\", config['max_depth'])\n",
    "    mlflow.log_param(\"criterion\", config['criterion'])\n",
    "    mlflow.log_param(\"min_samples_split\", config['min_samples_split'])\n",
    "    mlflow.log_param(\"min_samples_leaf\", config['min_samples_leaf'])\n",
    "    mlflow.log_param(\"max_features\", config['max_features'])\n",
    "\n",
    "    # Log metrics\n",
    "    mlflow.log_metric(\"train_accuracy\", accuracy_score(y_train, y_pred_train))\n",
    "    mlflow.log_metric(\"test_accuracy\", accuracy_score(y_test, y_pred_test))\n",
    "    mlflow.log_metric(\"train_precision\", precision_score(y_train, y_pred_train))\n",
    "    mlflow.log_metric(\"test_precision\", precision_score(y_test, y_pred_test))\n",
    "    mlflow.log_metric(\"train_recall\", recall_score(y_train, y_pred_train))\n",
    "    mlflow.log_metric(\"test_recall\", recall_score(y_test, y_pred_test))\n",
    "    mlflow.log_metric(\"train_f1_score\", f1_score(y_train, y_pred_train))\n",
    "    mlflow.log_metric(\"test_f1_score\", f1_score(y_test, y_pred_test))\n",
    "\n",
    "    # Log model\n",
    "    mlflow.sklearn.log_model(model, \"model\")"
   ]
  },
  {
   "cell_type": "code",
   "execution_count": 39,
   "metadata": {},
   "outputs": [
    {
     "data": {
      "text/plain": [
       "<Experiment: artifact_location='file:///c:/Users/Salem%20Aslam/Documents/3.%20Academics/%23Sem8/Lab/Project-19/mlruns/201476583766961328', creation_time=1716082675097, experiment_id='201476583766961328', last_update_time=1716082675097, lifecycle_stage='active', name='Telco Churn Decision Tree Experiment', tags={}>"
      ]
     },
     "execution_count": 39,
     "metadata": {},
     "output_type": "execute_result"
    }
   ],
   "source": [
    "# Set experiment name\n",
    "mlflow.set_experiment(\"Telco Churn Decision Tree Experiment\")"
   ]
  },
  {
   "cell_type": "code",
   "execution_count": 40,
   "metadata": {},
   "outputs": [],
   "source": [
    "with mlflow.start_run(run_name=\"Main run-1\"):\n",
    "    for config_name in models_configs:\n",
    "        with mlflow.start_run(nested=True, run_name=config_name):\n",
    "            train_and_log_model(config_name, models_configs)"
   ]
  }
 ],
 "metadata": {
  "kernelspec": {
   "display_name": "Python 3",
   "language": "python",
   "name": "python3"
  },
  "language_info": {
   "codemirror_mode": {
    "name": "ipython",
    "version": 3
   },
   "file_extension": ".py",
   "mimetype": "text/x-python",
   "name": "python",
   "nbconvert_exporter": "python",
   "pygments_lexer": "ipython3",
   "version": "3.10.4"
  }
 },
 "nbformat": 4,
 "nbformat_minor": 2
}
